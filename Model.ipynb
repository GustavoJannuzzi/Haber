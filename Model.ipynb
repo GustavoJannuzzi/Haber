{
 "cells": [
  {
   "cell_type": "code",
   "execution_count": 1,
   "metadata": {},
   "outputs": [],
   "source": [
    "import tensorflow as tf\n",
    "from PIL import Image\n",
    "import numpy as np\n",
    "import os"
   ]
  },
  {
   "cell_type": "code",
   "execution_count": null,
   "metadata": {},
   "outputs": [],
   "source": [
    "# Carregar o modelo salvo\n",
    "model_path = 'modelo_soja.h5'\n",
    "model = tf.keras.models.load_model(model_path)\n"
   ]
  },
  {
   "cell_type": "code",
   "execution_count": null,
   "metadata": {},
   "outputs": [],
   "source": [
    "# Caminho para a imagem\n",
    "image_path = 'Mosaic Virus.jpg'\n",
    "\n",
    "# Carregar a imagem\n",
    "image = Image.open(image_path)\n",
    "\n",
    "# Pré-processar a imagem\n",
    "def preprocess_image(image):\n",
    "    # Redimensionar a imagem para o tamanho esperado pelo modelo (por exemplo, 224x224)\n",
    "    image = image.resize((224, 224))\n",
    "    # Converter a imagem para um array numpy\n",
    "    image_array = np.array(image) / 255.0  # Normalizar para o intervalo [0,1]\n",
    "    # Adicionar uma dimensão extra para o batch size\n",
    "    image_array = np.expand_dims(image_array, axis=0)\n",
    "    return image_array\n",
    "\n",
    "# Pré-processar a imagem\n",
    "image_array = preprocess_image(image)\n"
   ]
  },
  {
   "cell_type": "code",
   "execution_count": null,
   "metadata": {},
   "outputs": [],
   "source": [
    "# Fazer a previsão\n",
    "prediction = model.predict(image_array)\n",
    "\n",
    "# Supondo que o modelo retorna uma probabilidade para cada classe\n",
    "class_names = [\n",
    "    'Mossaic Virus', \n",
    "    'Southern blight', \n",
    "    'Sudden Death Syndrone', \n",
    "    'Yellow Mosaic', \n",
    "    'bacterial blight', \n",
    "    'brown spot', \n",
    "    'crestamento', \n",
    "    'ferrugen', \n",
    "    'powdery_mildew', \n",
    "    'septoria'\n",
    "]  \n",
    "# Substitua pelos nomes das suas classes\n",
    "predicted_class = class_names[np.argmax(prediction)]\n",
    "\n",
    "# Exibir a previsão\n",
    "print(f\"Predição: {predicted_class}\")\n"
   ]
  },
  {
   "cell_type": "code",
   "execution_count": null,
   "metadata": {},
   "outputs": [],
   "source": [
    "# Exibir a imagem carregada\n",
    "image.show()\n",
    "\n",
    "# Exibir a previsão\n",
    "print(f'Predição: {predicted_class}')\n"
   ]
  }
 ],
 "metadata": {
  "kernelspec": {
   "display_name": "Python 3",
   "language": "python",
   "name": "python3"
  },
  "language_info": {
   "codemirror_mode": {
    "name": "ipython",
    "version": 3
   },
   "file_extension": ".py",
   "mimetype": "text/x-python",
   "name": "python",
   "nbconvert_exporter": "python",
   "pygments_lexer": "ipython3",
   "version": "3.12.7"
  }
 },
 "nbformat": 4,
 "nbformat_minor": 2
}
